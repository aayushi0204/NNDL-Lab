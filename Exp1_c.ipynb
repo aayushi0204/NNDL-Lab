{
  "nbformat": 4,
  "nbformat_minor": 0,
  "metadata": {
    "colab": {
      "name": "Exp1_c.ipynb",
      "provenance": [],
      "collapsed_sections": []
    },
    "kernelspec": {
      "name": "python3",
      "display_name": "Python 3"
    },
    "language_info": {
      "name": "python"
    }
  },
  "cells": [
    {
      "cell_type": "markdown",
      "source": [
        "**EXPERIMENT 1(c)**\n",
        "\n",
        "AIM : Implementation of ANN - Customer churn prediction using dataset for Bank.\n",
        "\n",
        "Take this dataset for bank customer churn prediction : https://www.kaggle.com/barelydedicated/bank-customer-churn-modeling\n",
        "\n",
        "1) Build a deep learning model to predict churn rate at bank.\n",
        "\n",
        "2) Once model is built, print classification report and analyze precision, recall and f1-score"
      ],
      "metadata": {
        "id": "Wd3SCsVgYl2r"
      }
    },
    {
      "cell_type": "code",
      "source": [
        "import pandas as pd\n",
        "from sklearn.preprocessing import MinMaxScaler\n",
        "from sklearn.model_selection import train_test_split\n",
        "import tensorflow as tf\n",
        "from tensorflow import keras\n",
        "import pandas as pd\n",
        "import numpy as np\n",
        "import matplotlib.pyplot as plt"
      ],
      "metadata": {
        "id": "blMHK0ow0db9"
      },
      "execution_count": null,
      "outputs": []
    },
    {
      "cell_type": "code",
      "source": [
        "df=pd.read_csv('/content/Churn_Modelling.csv')\n",
        "df.head()"
      ],
      "metadata": {
        "colab": {
          "base_uri": "https://localhost:8080/",
          "height": 270
        },
        "id": "pM9F9U0y0f6a",
        "outputId": "9c62b282-e732-4504-b5e6-d5c32e49191c"
      },
      "execution_count": null,
      "outputs": [
        {
          "output_type": "execute_result",
          "data": {
            "text/plain": [
              "   RowNumber  CustomerId   Surname  CreditScore Geography  Gender  Age  \\\n",
              "0          1    15634602  Hargrave          619    France  Female   42   \n",
              "1          2    15647311      Hill          608     Spain  Female   41   \n",
              "2          3    15619304      Onio          502    France  Female   42   \n",
              "3          4    15701354      Boni          699    France  Female   39   \n",
              "4          5    15737888  Mitchell          850     Spain  Female   43   \n",
              "\n",
              "   Tenure    Balance  NumOfProducts  HasCrCard  IsActiveMember  \\\n",
              "0       2       0.00              1          1               1   \n",
              "1       1   83807.86              1          0               1   \n",
              "2       8  159660.80              3          1               0   \n",
              "3       1       0.00              2          0               0   \n",
              "4       2  125510.82              1          1               1   \n",
              "\n",
              "   EstimatedSalary  Exited  \n",
              "0        101348.88       1  \n",
              "1        112542.58       0  \n",
              "2        113931.57       1  \n",
              "3         93826.63       0  \n",
              "4         79084.10       0  "
            ],
            "text/html": [
              "\n",
              "  <div id=\"df-5dda0059-333c-443d-8a50-3bfa8939a3fc\">\n",
              "    <div class=\"colab-df-container\">\n",
              "      <div>\n",
              "<style scoped>\n",
              "    .dataframe tbody tr th:only-of-type {\n",
              "        vertical-align: middle;\n",
              "    }\n",
              "\n",
              "    .dataframe tbody tr th {\n",
              "        vertical-align: top;\n",
              "    }\n",
              "\n",
              "    .dataframe thead th {\n",
              "        text-align: right;\n",
              "    }\n",
              "</style>\n",
              "<table border=\"1\" class=\"dataframe\">\n",
              "  <thead>\n",
              "    <tr style=\"text-align: right;\">\n",
              "      <th></th>\n",
              "      <th>RowNumber</th>\n",
              "      <th>CustomerId</th>\n",
              "      <th>Surname</th>\n",
              "      <th>CreditScore</th>\n",
              "      <th>Geography</th>\n",
              "      <th>Gender</th>\n",
              "      <th>Age</th>\n",
              "      <th>Tenure</th>\n",
              "      <th>Balance</th>\n",
              "      <th>NumOfProducts</th>\n",
              "      <th>HasCrCard</th>\n",
              "      <th>IsActiveMember</th>\n",
              "      <th>EstimatedSalary</th>\n",
              "      <th>Exited</th>\n",
              "    </tr>\n",
              "  </thead>\n",
              "  <tbody>\n",
              "    <tr>\n",
              "      <th>0</th>\n",
              "      <td>1</td>\n",
              "      <td>15634602</td>\n",
              "      <td>Hargrave</td>\n",
              "      <td>619</td>\n",
              "      <td>France</td>\n",
              "      <td>Female</td>\n",
              "      <td>42</td>\n",
              "      <td>2</td>\n",
              "      <td>0.00</td>\n",
              "      <td>1</td>\n",
              "      <td>1</td>\n",
              "      <td>1</td>\n",
              "      <td>101348.88</td>\n",
              "      <td>1</td>\n",
              "    </tr>\n",
              "    <tr>\n",
              "      <th>1</th>\n",
              "      <td>2</td>\n",
              "      <td>15647311</td>\n",
              "      <td>Hill</td>\n",
              "      <td>608</td>\n",
              "      <td>Spain</td>\n",
              "      <td>Female</td>\n",
              "      <td>41</td>\n",
              "      <td>1</td>\n",
              "      <td>83807.86</td>\n",
              "      <td>1</td>\n",
              "      <td>0</td>\n",
              "      <td>1</td>\n",
              "      <td>112542.58</td>\n",
              "      <td>0</td>\n",
              "    </tr>\n",
              "    <tr>\n",
              "      <th>2</th>\n",
              "      <td>3</td>\n",
              "      <td>15619304</td>\n",
              "      <td>Onio</td>\n",
              "      <td>502</td>\n",
              "      <td>France</td>\n",
              "      <td>Female</td>\n",
              "      <td>42</td>\n",
              "      <td>8</td>\n",
              "      <td>159660.80</td>\n",
              "      <td>3</td>\n",
              "      <td>1</td>\n",
              "      <td>0</td>\n",
              "      <td>113931.57</td>\n",
              "      <td>1</td>\n",
              "    </tr>\n",
              "    <tr>\n",
              "      <th>3</th>\n",
              "      <td>4</td>\n",
              "      <td>15701354</td>\n",
              "      <td>Boni</td>\n",
              "      <td>699</td>\n",
              "      <td>France</td>\n",
              "      <td>Female</td>\n",
              "      <td>39</td>\n",
              "      <td>1</td>\n",
              "      <td>0.00</td>\n",
              "      <td>2</td>\n",
              "      <td>0</td>\n",
              "      <td>0</td>\n",
              "      <td>93826.63</td>\n",
              "      <td>0</td>\n",
              "    </tr>\n",
              "    <tr>\n",
              "      <th>4</th>\n",
              "      <td>5</td>\n",
              "      <td>15737888</td>\n",
              "      <td>Mitchell</td>\n",
              "      <td>850</td>\n",
              "      <td>Spain</td>\n",
              "      <td>Female</td>\n",
              "      <td>43</td>\n",
              "      <td>2</td>\n",
              "      <td>125510.82</td>\n",
              "      <td>1</td>\n",
              "      <td>1</td>\n",
              "      <td>1</td>\n",
              "      <td>79084.10</td>\n",
              "      <td>0</td>\n",
              "    </tr>\n",
              "  </tbody>\n",
              "</table>\n",
              "</div>\n",
              "      <button class=\"colab-df-convert\" onclick=\"convertToInteractive('df-5dda0059-333c-443d-8a50-3bfa8939a3fc')\"\n",
              "              title=\"Convert this dataframe to an interactive table.\"\n",
              "              style=\"display:none;\">\n",
              "        \n",
              "  <svg xmlns=\"http://www.w3.org/2000/svg\" height=\"24px\"viewBox=\"0 0 24 24\"\n",
              "       width=\"24px\">\n",
              "    <path d=\"M0 0h24v24H0V0z\" fill=\"none\"/>\n",
              "    <path d=\"M18.56 5.44l.94 2.06.94-2.06 2.06-.94-2.06-.94-.94-2.06-.94 2.06-2.06.94zm-11 1L8.5 8.5l.94-2.06 2.06-.94-2.06-.94L8.5 2.5l-.94 2.06-2.06.94zm10 10l.94 2.06.94-2.06 2.06-.94-2.06-.94-.94-2.06-.94 2.06-2.06.94z\"/><path d=\"M17.41 7.96l-1.37-1.37c-.4-.4-.92-.59-1.43-.59-.52 0-1.04.2-1.43.59L10.3 9.45l-7.72 7.72c-.78.78-.78 2.05 0 2.83L4 21.41c.39.39.9.59 1.41.59.51 0 1.02-.2 1.41-.59l7.78-7.78 2.81-2.81c.8-.78.8-2.07 0-2.86zM5.41 20L4 18.59l7.72-7.72 1.47 1.35L5.41 20z\"/>\n",
              "  </svg>\n",
              "      </button>\n",
              "      \n",
              "  <style>\n",
              "    .colab-df-container {\n",
              "      display:flex;\n",
              "      flex-wrap:wrap;\n",
              "      gap: 12px;\n",
              "    }\n",
              "\n",
              "    .colab-df-convert {\n",
              "      background-color: #E8F0FE;\n",
              "      border: none;\n",
              "      border-radius: 50%;\n",
              "      cursor: pointer;\n",
              "      display: none;\n",
              "      fill: #1967D2;\n",
              "      height: 32px;\n",
              "      padding: 0 0 0 0;\n",
              "      width: 32px;\n",
              "    }\n",
              "\n",
              "    .colab-df-convert:hover {\n",
              "      background-color: #E2EBFA;\n",
              "      box-shadow: 0px 1px 2px rgba(60, 64, 67, 0.3), 0px 1px 3px 1px rgba(60, 64, 67, 0.15);\n",
              "      fill: #174EA6;\n",
              "    }\n",
              "\n",
              "    [theme=dark] .colab-df-convert {\n",
              "      background-color: #3B4455;\n",
              "      fill: #D2E3FC;\n",
              "    }\n",
              "\n",
              "    [theme=dark] .colab-df-convert:hover {\n",
              "      background-color: #434B5C;\n",
              "      box-shadow: 0px 1px 3px 1px rgba(0, 0, 0, 0.15);\n",
              "      filter: drop-shadow(0px 1px 2px rgba(0, 0, 0, 0.3));\n",
              "      fill: #FFFFFF;\n",
              "    }\n",
              "  </style>\n",
              "\n",
              "      <script>\n",
              "        const buttonEl =\n",
              "          document.querySelector('#df-5dda0059-333c-443d-8a50-3bfa8939a3fc button.colab-df-convert');\n",
              "        buttonEl.style.display =\n",
              "          google.colab.kernel.accessAllowed ? 'block' : 'none';\n",
              "\n",
              "        async function convertToInteractive(key) {\n",
              "          const element = document.querySelector('#df-5dda0059-333c-443d-8a50-3bfa8939a3fc');\n",
              "          const dataTable =\n",
              "            await google.colab.kernel.invokeFunction('convertToInteractive',\n",
              "                                                     [key], {});\n",
              "          if (!dataTable) return;\n",
              "\n",
              "          const docLinkHtml = 'Like what you see? Visit the ' +\n",
              "            '<a target=\"_blank\" href=https://colab.research.google.com/notebooks/data_table.ipynb>data table notebook</a>'\n",
              "            + ' to learn more about interactive tables.';\n",
              "          element.innerHTML = '';\n",
              "          dataTable['output_type'] = 'display_data';\n",
              "          await google.colab.output.renderOutput(dataTable, element);\n",
              "          const docLink = document.createElement('div');\n",
              "          docLink.innerHTML = docLinkHtml;\n",
              "          element.appendChild(docLink);\n",
              "        }\n",
              "      </script>\n",
              "    </div>\n",
              "  </div>\n",
              "  "
            ]
          },
          "metadata": {},
          "execution_count": 2
        }
      ]
    },
    {
      "cell_type": "code",
      "source": [
        "df.shape"
      ],
      "metadata": {
        "colab": {
          "base_uri": "https://localhost:8080/"
        },
        "id": "770Vzh0z0sHV",
        "outputId": "c824af98-e3e3-4978-940a-e675e01bb414"
      },
      "execution_count": null,
      "outputs": [
        {
          "output_type": "execute_result",
          "data": {
            "text/plain": [
              "(10000, 14)"
            ]
          },
          "metadata": {},
          "execution_count": 3
        }
      ]
    },
    {
      "cell_type": "code",
      "source": [
        "df.dtypes"
      ],
      "metadata": {
        "colab": {
          "base_uri": "https://localhost:8080/"
        },
        "id": "SdxnkWlG0wFQ",
        "outputId": "4c2a8e23-a755-4a6a-fcc7-79ebb4e3e36a"
      },
      "execution_count": null,
      "outputs": [
        {
          "output_type": "execute_result",
          "data": {
            "text/plain": [
              "RowNumber            int64\n",
              "CustomerId           int64\n",
              "Surname             object\n",
              "CreditScore          int64\n",
              "Geography           object\n",
              "Gender              object\n",
              "Age                  int64\n",
              "Tenure               int64\n",
              "Balance            float64\n",
              "NumOfProducts        int64\n",
              "HasCrCard            int64\n",
              "IsActiveMember       int64\n",
              "EstimatedSalary    float64\n",
              "Exited               int64\n",
              "dtype: object"
            ]
          },
          "metadata": {},
          "execution_count": 4
        }
      ]
    },
    {
      "cell_type": "code",
      "source": [
        "df = df.drop(['RowNumber', 'CustomerId', 'Surname'], axis=1)"
      ],
      "metadata": {
        "id": "QxdBTkPe0yST"
      },
      "execution_count": null,
      "outputs": []
    },
    {
      "cell_type": "markdown",
      "source": [
        "**Visualization**"
      ],
      "metadata": {
        "id": "neb3Aw-T06ND"
      }
    },
    {
      "cell_type": "code",
      "source": [
        "existed_yes = df[df['Exited']== 1].Tenure \n",
        "existed_no = df[df['Exited']== 0].Tenure \n",
        "plt.xlabel('Tenure')\n",
        "plt.ylabel('no of customer')\n",
        "plt.title('Churn prediction')\n",
        "plt.hist([existed_no,existed_yes], color = ['red', 'blue'], label =(['Existed = no','Existed = yes']))\n",
        "plt.legend()"
      ],
      "metadata": {
        "colab": {
          "base_uri": "https://localhost:8080/",
          "height": 402
        },
        "id": "9tWcIzVl027J",
        "outputId": "5bb360fd-4671-4c4e-9cfc-9d9918504f30"
      },
      "execution_count": null,
      "outputs": [
        {
          "output_type": "stream",
          "name": "stderr",
          "text": [
            "/usr/local/lib/python3.7/dist-packages/numpy/core/fromnumeric.py:3208: VisibleDeprecationWarning: Creating an ndarray from ragged nested sequences (which is a list-or-tuple of lists-or-tuples-or ndarrays with different lengths or shapes) is deprecated. If you meant to do this, you must specify 'dtype=object' when creating the ndarray.\n",
            "  return asarray(a).size\n",
            "/usr/local/lib/python3.7/dist-packages/matplotlib/cbook/__init__.py:1376: VisibleDeprecationWarning: Creating an ndarray from ragged nested sequences (which is a list-or-tuple of lists-or-tuples-or ndarrays with different lengths or shapes) is deprecated. If you meant to do this, you must specify 'dtype=object' when creating the ndarray.\n",
            "  X = np.atleast_1d(X.T if isinstance(X, np.ndarray) else np.asarray(X))\n"
          ]
        },
        {
          "output_type": "execute_result",
          "data": {
            "text/plain": [
              "<matplotlib.legend.Legend at 0x7f76dd018ad0>"
            ]
          },
          "metadata": {},
          "execution_count": 6
        },
        {
          "output_type": "display_data",
          "data": {
            "text/plain": [
              "<Figure size 432x288 with 1 Axes>"
            ],
            "image/png": "[encoded data removed]"
          },
          "metadata": {
            "needs_background": "light"
          }
        }
      ]
    },
    {
      "cell_type": "code",
      "source": [
        "salary_no_existed = df[df.Exited== 0].EstimatedSalary\n",
        "salary_yes_existed = df[df.Exited== 1].EstimatedSalary\n",
        "plt.xlabel('Estimad_salary')\n",
        "plt.ylabel('no of customer')\n",
        "plt.title('Churn prediction')\n",
        "plt.hist([salary_no_existed,salary_yes_existed], color = ['green', 'blue'], label =(['Existed = no','Existed = yes']))\n",
        "plt.legend()"
      ],
      "metadata": {
        "colab": {
          "base_uri": "https://localhost:8080/",
          "height": 402
        },
        "id": "9pRudNbW1Aks",
        "outputId": "85129512-f937-40bd-96b8-d8eef50e3808"
      },
      "execution_count": null,
      "outputs": [
        {
          "output_type": "stream",
          "name": "stderr",
          "text": [
            "/usr/local/lib/python3.7/dist-packages/numpy/core/fromnumeric.py:3208: VisibleDeprecationWarning: Creating an ndarray from ragged nested sequences (which is a list-or-tuple of lists-or-tuples-or ndarrays with different lengths or shapes) is deprecated. If you meant to do this, you must specify 'dtype=object' when creating the ndarray.\n",
            "  return asarray(a).size\n",
            "/usr/local/lib/python3.7/dist-packages/matplotlib/cbook/__init__.py:1376: VisibleDeprecationWarning: Creating an ndarray from ragged nested sequences (which is a list-or-tuple of lists-or-tuples-or ndarrays with different lengths or shapes) is deprecated. If you meant to do this, you must specify 'dtype=object' when creating the ndarray.\n",
            "  X = np.atleast_1d(X.T if isinstance(X, np.ndarray) else np.asarray(X))\n"
          ]
        },
        {
          "output_type": "execute_result",
          "data": {
            "text/plain": [
              "<matplotlib.legend.Legend at 0x7f76dc99ad50>"
            ]
          },
          "metadata": {},
          "execution_count": 7
        },
        {
          "output_type": "display_data",
          "data": {
            "text/plain": [
              "<Figure size 432x288 with 1 Axes>"
            ],
            "image/png": "[encoded data removed]"
          },
          "metadata": {
            "needs_background": "light"
          }
        }
      ]
    },
    {
      "cell_type": "markdown",
      "source": [
        "**Converting categorical to numerical**"
      ],
      "metadata": {
        "id": "OgoYP5oO1H6U"
      }
    },
    {
      "cell_type": "code",
      "source": [
        "df.Gender = df.Gender.map({'Female':1, 'Male':0}) \n",
        "df = pd.get_dummies(data=df, columns=['Geography'])"
      ],
      "metadata": {
        "id": "cNYauYPX1DPp"
      },
      "execution_count": null,
      "outputs": []
    },
    {
      "cell_type": "code",
      "source": [
        "scaler = MinMaxScaler()\n",
        "df[['CreditScore', 'Age', 'Tenure', 'Balance', 'NumOfProducts', 'EstimatedSalary']] = scaler.fit_transform(df[['CreditScore', 'Age', 'Tenure', 'Balance', 'NumOfProducts', 'EstimatedSalary']])\n",
        "df.head()"
      ],
      "metadata": {
        "colab": {
          "base_uri": "https://localhost:8080/",
          "height": 270
        },
        "id": "XDUuqvbZ1LyS",
        "outputId": "f6063d67-7306-4409-a3f5-2f4b9231542a"
      },
      "execution_count": null,
      "outputs": [
        {
          "output_type": "execute_result",
          "data": {
            "text/plain": [
              "   CreditScore  Gender       Age  Tenure   Balance  NumOfProducts  HasCrCard  \\\n",
              "0        0.538       1  0.324324     0.2  0.000000       0.000000          1   \n",
              "1        0.516       1  0.310811     0.1  0.334031       0.000000          0   \n",
              "2        0.304       1  0.324324     0.8  0.636357       0.666667          1   \n",
              "3        0.698       1  0.283784     0.1  0.000000       0.333333          0   \n",
              "4        1.000       1  0.337838     0.2  0.500246       0.000000          1   \n",
              "\n",
              "   IsActiveMember  EstimatedSalary  Exited  Geography_France  \\\n",
              "0               1         0.506735       1                 1   \n",
              "1               1         0.562709       0                 0   \n",
              "2               0         0.569654       1                 1   \n",
              "3               0         0.469120       0                 1   \n",
              "4               1         0.395400       0                 0   \n",
              "\n",
              "   Geography_Germany  Geography_Spain  \n",
              "0                  0                0  \n",
              "1                  0                1  \n",
              "2                  0                0  \n",
              "3                  0                0  \n",
              "4                  0                1  "
            ],
            "text/html": [
              "\n",
              "  <div id=\"df-37cfa9ef-8d88-42df-81b6-05db869f0e6d\">\n",
              "    <div class=\"colab-df-container\">\n",
              "      <div>\n",
              "<style scoped>\n",
              "    .dataframe tbody tr th:only-of-type {\n",
              "        vertical-align: middle;\n",
              "    }\n",
              "\n",
              "    .dataframe tbody tr th {\n",
              "        vertical-align: top;\n",
              "    }\n",
              "\n",
              "    .dataframe thead th {\n",
              "        text-align: right;\n",
              "    }\n",
              "</style>\n",
              "<table border=\"1\" class=\"dataframe\">\n",
              "  <thead>\n",
              "    <tr style=\"text-align: right;\">\n",
              "      <th></th>\n",
              "      <th>CreditScore</th>\n",
              "      <th>Gender</th>\n",
              "      <th>Age</th>\n",
              "      <th>Tenure</th>\n",
              "      <th>Balance</th>\n",
              "      <th>NumOfProducts</th>\n",
              "      <th>HasCrCard</th>\n",
              "      <th>IsActiveMember</th>\n",
              "      <th>EstimatedSalary</th>\n",
              "      <th>Exited</th>\n",
              "      <th>Geography_France</th>\n",
              "      <th>Geography_Germany</th>\n",
              "      <th>Geography_Spain</th>\n",
              "    </tr>\n",
              "  </thead>\n",
              "  <tbody>\n",
              "    <tr>\n",
              "      <th>0</th>\n",
              "      <td>0.538</td>\n",
              "      <td>1</td>\n",
              "      <td>0.324324</td>\n",
              "      <td>0.2</td>\n",
              "      <td>0.000000</td>\n",
              "      <td>0.000000</td>\n",
              "      <td>1</td>\n",
              "      <td>1</td>\n",
              "      <td>0.506735</td>\n",
              "      <td>1</td>\n",
              "      <td>1</td>\n",
              "      <td>0</td>\n",
              "      <td>0</td>\n",
              "    </tr>\n",
              "    <tr>\n",
              "      <th>1</th>\n",
              "      <td>0.516</td>\n",
              "      <td>1</td>\n",
              "      <td>0.310811</td>\n",
              "      <td>0.1</td>\n",
              "      <td>0.334031</td>\n",
              "      <td>0.000000</td>\n",
              "      <td>0</td>\n",
              "      <td>1</td>\n",
              "      <td>0.562709</td>\n",
              "      <td>0</td>\n",
              "      <td>0</td>\n",
              "      <td>0</td>\n",
              "      <td>1</td>\n",
              "    </tr>\n",
              "    <tr>\n",
              "      <th>2</th>\n",
              "      <td>0.304</td>\n",
              "      <td>1</td>\n",
              "      <td>0.324324</td>\n",
              "      <td>0.8</td>\n",
              "      <td>0.636357</td>\n",
              "      <td>0.666667</td>\n",
              "      <td>1</td>\n",
              "      <td>0</td>\n",
              "      <td>0.569654</td>\n",
              "      <td>1</td>\n",
              "      <td>1</td>\n",
              "      <td>0</td>\n",
              "      <td>0</td>\n",
              "    </tr>\n",
              "    <tr>\n",
              "      <th>3</th>\n",
              "      <td>0.698</td>\n",
              "      <td>1</td>\n",
              "      <td>0.283784</td>\n",
              "      <td>0.1</td>\n",
              "      <td>0.000000</td>\n",
              "      <td>0.333333</td>\n",
              "      <td>0</td>\n",
              "      <td>0</td>\n",
              "      <td>0.469120</td>\n",
              "      <td>0</td>\n",
              "      <td>1</td>\n",
              "      <td>0</td>\n",
              "      <td>0</td>\n",
              "    </tr>\n",
              "    <tr>\n",
              "      <th>4</th>\n",
              "      <td>1.000</td>\n",
              "      <td>1</td>\n",
              "      <td>0.337838</td>\n",
              "      <td>0.2</td>\n",
              "      <td>0.500246</td>\n",
              "      <td>0.000000</td>\n",
              "      <td>1</td>\n",
              "      <td>1</td>\n",
              "      <td>0.395400</td>\n",
              "      <td>0</td>\n",
              "      <td>0</td>\n",
              "      <td>0</td>\n",
              "      <td>1</td>\n",
              "    </tr>\n",
              "  </tbody>\n",
              "</table>\n",
              "</div>\n",
              "      <button class=\"colab-df-convert\" onclick=\"convertToInteractive('df-37cfa9ef-8d88-42df-81b6-05db869f0e6d')\"\n",
              "              title=\"Convert this dataframe to an interactive table.\"\n",
              "              style=\"display:none;\">\n",
              "        \n",
              "  <svg xmlns=\"http://www.w3.org/2000/svg\" height=\"24px\"viewBox=\"0 0 24 24\"\n",
              "       width=\"24px\">\n",
              "    <path d=\"M0 0h24v24H0V0z\" fill=\"none\"/>\n",
              "    <path d=\"M18.56 5.44l.94 2.06.94-2.06 2.06-.94-2.06-.94-.94-2.06-.94 2.06-2.06.94zm-11 1L8.5 8.5l.94-2.06 2.06-.94-2.06-.94L8.5 2.5l-.94 2.06-2.06.94zm10 10l.94 2.06.94-2.06 2.06-.94-2.06-.94-.94-2.06-.94 2.06-2.06.94z\"/><path d=\"M17.41 7.96l-1.37-1.37c-.4-.4-.92-.59-1.43-.59-.52 0-1.04.2-1.43.59L10.3 9.45l-7.72 7.72c-.78.78-.78 2.05 0 2.83L4 21.41c.39.39.9.59 1.41.59.51 0 1.02-.2 1.41-.59l7.78-7.78 2.81-2.81c.8-.78.8-2.07 0-2.86zM5.41 20L4 18.59l7.72-7.72 1.47 1.35L5.41 20z\"/>\n",
              "  </svg>\n",
              "      </button>\n",
              "      \n",
              "  <style>\n",
              "    .colab-df-container {\n",
              "      display:flex;\n",
              "      flex-wrap:wrap;\n",
              "      gap: 12px;\n",
              "    }\n",
              "\n",
              "    .colab-df-convert {\n",
              "      background-color: #E8F0FE;\n",
              "      border: none;\n",
              "      border-radius: 50%;\n",
              "      cursor: pointer;\n",
              "      display: none;\n",
              "      fill: #1967D2;\n",
              "      height: 32px;\n",
              "      padding: 0 0 0 0;\n",
              "      width: 32px;\n",
              "    }\n",
              "\n",
              "    .colab-df-convert:hover {\n",
              "      background-color: #E2EBFA;\n",
              "      box-shadow: 0px 1px 2px rgba(60, 64, 67, 0.3), 0px 1px 3px 1px rgba(60, 64, 67, 0.15);\n",
              "      fill: #174EA6;\n",
              "    }\n",
              "\n",
              "    [theme=dark] .colab-df-convert {\n",
              "      background-color: #3B4455;\n",
              "      fill: #D2E3FC;\n",
              "    }\n",
              "\n",
              "    [theme=dark] .colab-df-convert:hover {\n",
              "      background-color: #434B5C;\n",
              "      box-shadow: 0px 1px 3px 1px rgba(0, 0, 0, 0.15);\n",
              "      filter: drop-shadow(0px 1px 2px rgba(0, 0, 0, 0.3));\n",
              "      fill: #FFFFFF;\n",
              "    }\n",
              "  </style>\n",
              "\n",
              "      <script>\n",
              "        const buttonEl =\n",
              "          document.querySelector('#df-37cfa9ef-8d88-42df-81b6-05db869f0e6d button.colab-df-convert');\n",
              "        buttonEl.style.display =\n",
              "          google.colab.kernel.accessAllowed ? 'block' : 'none';\n",
              "\n",
              "        async function convertToInteractive(key) {\n",
              "          const element = document.querySelector('#df-37cfa9ef-8d88-42df-81b6-05db869f0e6d');\n",
              "          const dataTable =\n",
              "            await google.colab.kernel.invokeFunction('convertToInteractive',\n",
              "                                                     [key], {});\n",
              "          if (!dataTable) return;\n",
              "\n",
              "          const docLinkHtml = 'Like what you see? Visit the ' +\n",
              "            '<a target=\"_blank\" href=https://colab.research.google.com/notebooks/data_table.ipynb>data table notebook</a>'\n",
              "            + ' to learn more about interactive tables.';\n",
              "          element.innerHTML = '';\n",
              "          dataTable['output_type'] = 'display_data';\n",
              "          await google.colab.output.renderOutput(dataTable, element);\n",
              "          const docLink = document.createElement('div');\n",
              "          docLink.innerHTML = docLinkHtml;\n",
              "          element.appendChild(docLink);\n",
              "        }\n",
              "      </script>\n",
              "    </div>\n",
              "  </div>\n",
              "  "
            ]
          },
          "metadata": {},
          "execution_count": 9
        }
      ]
    },
    {
      "cell_type": "code",
      "source": [
        "df.Exited.value_counts()"
      ],
      "metadata": {
        "colab": {
          "base_uri": "https://localhost:8080/"
        },
        "id": "dFJAnz7q1NeE",
        "outputId": "a1425195-9924-4cf6-83e0-35b6550bc1d4"
      },
      "execution_count": null,
      "outputs": [
        {
          "output_type": "execute_result",
          "data": {
            "text/plain": [
              "0    7963\n",
              "1    2037\n",
              "Name: Exited, dtype: int64"
            ]
          },
          "metadata": {},
          "execution_count": 10
        }
      ]
    },
    {
      "cell_type": "code",
      "source": [
        ""
      ],
      "metadata": {
        "id": "PVPEOlRK1QIZ"
      },
      "execution_count": null,
      "outputs": []
    },
    {
      "cell_type": "markdown",
      "source": [
        "**Training Model**"
      ],
      "metadata": {
        "id": "5sFU4o5F1RpP"
      }
    },
    {
      "cell_type": "code",
      "source": [
        "x = df.drop('Exited', axis = 1) \n",
        "y = df.Exited\n",
        "x_train, x_test, y_train, y_test = train_test_split(x, y)"
      ],
      "metadata": {
        "id": "QHTVUMZh1UTC"
      },
      "execution_count": null,
      "outputs": []
    },
    {
      "cell_type": "code",
      "source": [
        "x_train.shape"
      ],
      "metadata": {
        "colab": {
          "base_uri": "https://localhost:8080/"
        },
        "id": "2pnm__bh1WDt",
        "outputId": "2cb5a542-bcd2-42ac-851d-2e491c72d59c"
      },
      "execution_count": null,
      "outputs": [
        {
          "output_type": "execute_result",
          "data": {
            "text/plain": [
              "(7500, 12)"
            ]
          },
          "metadata": {},
          "execution_count": 12
        }
      ]
    },
    {
      "cell_type": "code",
      "source": [
        "x_test.shape"
      ],
      "metadata": {
        "colab": {
          "base_uri": "https://localhost:8080/"
        },
        "id": "D155zSR-1Xps",
        "outputId": "08da2550-40a5-442c-d854-d15ad86872ea"
      },
      "execution_count": null,
      "outputs": [
        {
          "output_type": "execute_result",
          "data": {
            "text/plain": [
              "(2500, 12)"
            ]
          },
          "metadata": {},
          "execution_count": 13
        }
      ]
    },
    {
      "cell_type": "code",
      "source": [
        "import tensorflow as tf\n",
        "from tensorflow import keras\n",
        "\n",
        "model = keras.Sequential([\n",
        "        keras.layers.Dense(12, input_shape = (12,), activation = 'relu'),\n",
        "        keras.layers.Dense(12, activation = 'relu'),\n",
        "        keras.layers.Dense(1, activation = 'sigmoid')]) \n",
        "\n",
        "\n",
        "model.compile(optimizer = 'adam', loss = 'binary_crossentropy', metrics = 'accuracy')\n",
        "model.fit(x_train, y_train, epochs = 100)"
      ],
      "metadata": {
        "colab": {
          "base_uri": "https://localhost:8080/"
        },
        "id": "WcNmt5pS1ZoA",
        "outputId": "17c1f8a5-b4f9-4228-e3ef-6d5b63447337"
      },
      "execution_count": null,
      "outputs": [
        {
          "output_type": "stream",
          "name": "stdout",
          "text": [
            "Epoch 1/100\n",
            "235/235 [==============================] - 2s 3ms/step - loss: 0.5481 - accuracy: 0.7503\n",
            "Epoch 2/100\n",
            "235/235 [==============================] - 1s 2ms/step - loss: 0.4732 - accuracy: 0.7997\n",
            "Epoch 3/100\n",
            "235/235 [==============================] - 1s 2ms/step - loss: 0.4545 - accuracy: 0.8037\n",
            "Epoch 4/100\n",
            "235/235 [==============================] - 0s 2ms/step - loss: 0.4387 - accuracy: 0.8120\n",
            "Epoch 5/100\n",
            "235/235 [==============================] - 0s 1ms/step - loss: 0.4277 - accuracy: 0.8201\n",
            "Epoch 6/100\n",
            "235/235 [==============================] - 0s 1ms/step - loss: 0.4205 - accuracy: 0.8251\n",
            "Epoch 7/100\n",
            "235/235 [==============================] - 0s 1ms/step - loss: 0.4166 - accuracy: 0.8289\n",
            "Epoch 8/100\n",
            "235/235 [==============================] - 0s 1ms/step - loss: 0.4132 - accuracy: 0.8295\n",
            "Epoch 9/100\n",
            "235/235 [==============================] - 0s 1ms/step - loss: 0.4124 - accuracy: 0.8292\n",
            "Epoch 10/100\n",
            "235/235 [==============================] - 0s 1ms/step - loss: 0.4099 - accuracy: 0.8292\n",
            "Epoch 11/100\n",
            "235/235 [==============================] - 0s 1ms/step - loss: 0.4084 - accuracy: 0.8309\n",
            "Epoch 12/100\n",
            "235/235 [==============================] - 0s 1ms/step - loss: 0.4077 - accuracy: 0.8311\n",
            "Epoch 13/100\n",
            "235/235 [==============================] - 0s 1ms/step - loss: 0.4063 - accuracy: 0.8332\n",
            "Epoch 14/100\n",
            "235/235 [==============================] - 0s 1ms/step - loss: 0.4044 - accuracy: 0.8348\n",
            "Epoch 15/100\n",
            "235/235 [==============================] - 0s 1ms/step - loss: 0.4033 - accuracy: 0.8360\n",
            "Epoch 16/100\n",
            "235/235 [==============================] - 0s 1ms/step - loss: 0.4017 - accuracy: 0.8344\n",
            "Epoch 17/100\n",
            "235/235 [==============================] - 0s 1ms/step - loss: 0.3992 - accuracy: 0.8360\n",
            "Epoch 18/100\n",
            "235/235 [==============================] - 0s 1ms/step - loss: 0.3951 - accuracy: 0.8372\n",
            "Epoch 19/100\n",
            "235/235 [==============================] - 0s 1ms/step - loss: 0.3889 - accuracy: 0.8417\n",
            "Epoch 20/100\n",
            "235/235 [==============================] - 0s 1ms/step - loss: 0.3800 - accuracy: 0.8433\n",
            "Epoch 21/100\n",
            "235/235 [==============================] - 0s 1ms/step - loss: 0.3698 - accuracy: 0.8504\n",
            "Epoch 22/100\n",
            "235/235 [==============================] - 0s 1ms/step - loss: 0.3608 - accuracy: 0.8535\n",
            "Epoch 23/100\n",
            "235/235 [==============================] - 0s 1ms/step - loss: 0.3539 - accuracy: 0.8557\n",
            "Epoch 24/100\n",
            "235/235 [==============================] - 0s 1ms/step - loss: 0.3494 - accuracy: 0.8565\n",
            "Epoch 25/100\n",
            "235/235 [==============================] - 0s 1ms/step - loss: 0.3453 - accuracy: 0.8593\n",
            "Epoch 26/100\n",
            "235/235 [==============================] - 0s 1ms/step - loss: 0.3437 - accuracy: 0.8585\n",
            "Epoch 27/100\n",
            "235/235 [==============================] - 0s 1ms/step - loss: 0.3413 - accuracy: 0.8605\n",
            "Epoch 28/100\n",
            "235/235 [==============================] - 0s 1ms/step - loss: 0.3395 - accuracy: 0.8588\n",
            "Epoch 29/100\n",
            "235/235 [==============================] - 0s 1ms/step - loss: 0.3387 - accuracy: 0.8613\n",
            "Epoch 30/100\n",
            "235/235 [==============================] - 0s 1ms/step - loss: 0.3386 - accuracy: 0.8591\n",
            "Epoch 31/100\n",
            "235/235 [==============================] - 0s 1ms/step - loss: 0.3376 - accuracy: 0.8595\n",
            "Epoch 32/100\n",
            "235/235 [==============================] - 0s 1ms/step - loss: 0.3383 - accuracy: 0.8579\n",
            "Epoch 33/100\n",
            "235/235 [==============================] - 0s 1ms/step - loss: 0.3377 - accuracy: 0.8599\n",
            "Epoch 34/100\n",
            "235/235 [==============================] - 0s 1ms/step - loss: 0.3365 - accuracy: 0.8623\n",
            "Epoch 35/100\n",
            "235/235 [==============================] - 0s 1ms/step - loss: 0.3369 - accuracy: 0.8591\n",
            "Epoch 36/100\n",
            "235/235 [==============================] - 0s 1ms/step - loss: 0.3364 - accuracy: 0.8608\n",
            "Epoch 37/100\n",
            "235/235 [==============================] - 0s 1ms/step - loss: 0.3354 - accuracy: 0.8604\n",
            "Epoch 38/100\n",
            "235/235 [==============================] - 0s 2ms/step - loss: 0.3358 - accuracy: 0.8591\n",
            "Epoch 39/100\n",
            "235/235 [==============================] - 0s 1ms/step - loss: 0.3358 - accuracy: 0.8613\n",
            "Epoch 40/100\n",
            "235/235 [==============================] - 0s 1ms/step - loss: 0.3345 - accuracy: 0.8615\n",
            "Epoch 41/100\n",
            "235/235 [==============================] - 0s 2ms/step - loss: 0.3351 - accuracy: 0.8620\n",
            "Epoch 42/100\n",
            "235/235 [==============================] - 0s 1ms/step - loss: 0.3341 - accuracy: 0.8628\n",
            "Epoch 43/100\n",
            "235/235 [==============================] - 0s 1ms/step - loss: 0.3338 - accuracy: 0.8633\n",
            "Epoch 44/100\n",
            "235/235 [==============================] - 0s 1ms/step - loss: 0.3336 - accuracy: 0.8617\n",
            "Epoch 45/100\n",
            "235/235 [==============================] - 0s 1ms/step - loss: 0.3336 - accuracy: 0.8616\n",
            "Epoch 46/100\n",
            "235/235 [==============================] - 0s 1ms/step - loss: 0.3334 - accuracy: 0.8640\n",
            "Epoch 47/100\n",
            "235/235 [==============================] - 0s 1ms/step - loss: 0.3324 - accuracy: 0.8623\n",
            "Epoch 48/100\n",
            "235/235 [==============================] - 0s 1ms/step - loss: 0.3329 - accuracy: 0.8637\n",
            "Epoch 49/100\n",
            "235/235 [==============================] - 0s 1ms/step - loss: 0.3329 - accuracy: 0.8631\n",
            "Epoch 50/100\n",
            "235/235 [==============================] - 0s 1ms/step - loss: 0.3325 - accuracy: 0.8628\n",
            "Epoch 51/100\n",
            "235/235 [==============================] - 0s 1ms/step - loss: 0.3316 - accuracy: 0.8645\n",
            "Epoch 52/100\n",
            "235/235 [==============================] - 0s 1ms/step - loss: 0.3329 - accuracy: 0.8621\n",
            "Epoch 53/100\n",
            "235/235 [==============================] - 0s 1ms/step - loss: 0.3319 - accuracy: 0.8632\n",
            "Epoch 54/100\n",
            "235/235 [==============================] - 0s 1ms/step - loss: 0.3307 - accuracy: 0.8624\n",
            "Epoch 55/100\n",
            "235/235 [==============================] - 0s 1ms/step - loss: 0.3311 - accuracy: 0.8637\n",
            "Epoch 56/100\n",
            "235/235 [==============================] - 0s 1ms/step - loss: 0.3312 - accuracy: 0.8645\n",
            "Epoch 57/100\n",
            "235/235 [==============================] - 0s 1ms/step - loss: 0.3312 - accuracy: 0.8631\n",
            "Epoch 58/100\n",
            "235/235 [==============================] - 0s 1ms/step - loss: 0.3317 - accuracy: 0.8625\n",
            "Epoch 59/100\n",
            "235/235 [==============================] - 0s 2ms/step - loss: 0.3297 - accuracy: 0.8619\n",
            "Epoch 60/100\n",
            "235/235 [==============================] - 0s 1ms/step - loss: 0.3316 - accuracy: 0.8623\n",
            "Epoch 61/100\n",
            "235/235 [==============================] - 0s 1ms/step - loss: 0.3301 - accuracy: 0.8625\n",
            "Epoch 62/100\n",
            "235/235 [==============================] - 0s 1ms/step - loss: 0.3300 - accuracy: 0.8619\n",
            "Epoch 63/100\n",
            "235/235 [==============================] - 0s 1ms/step - loss: 0.3309 - accuracy: 0.8632\n",
            "Epoch 64/100\n",
            "235/235 [==============================] - 0s 1ms/step - loss: 0.3308 - accuracy: 0.8620\n",
            "Epoch 65/100\n",
            "235/235 [==============================] - 0s 1ms/step - loss: 0.3295 - accuracy: 0.8635\n",
            "Epoch 66/100\n",
            "235/235 [==============================] - 0s 1ms/step - loss: 0.3293 - accuracy: 0.8627\n",
            "Epoch 67/100\n",
            "235/235 [==============================] - 0s 1ms/step - loss: 0.3283 - accuracy: 0.8621\n",
            "Epoch 68/100\n",
            "235/235 [==============================] - 0s 2ms/step - loss: 0.3301 - accuracy: 0.8620\n",
            "Epoch 69/100\n",
            "235/235 [==============================] - 0s 1ms/step - loss: 0.3289 - accuracy: 0.8641\n",
            "Epoch 70/100\n",
            "235/235 [==============================] - 0s 1ms/step - loss: 0.3288 - accuracy: 0.8624\n",
            "Epoch 71/100\n",
            "235/235 [==============================] - 0s 1ms/step - loss: 0.3285 - accuracy: 0.8657\n",
            "Epoch 72/100\n",
            "235/235 [==============================] - 0s 1ms/step - loss: 0.3284 - accuracy: 0.8635\n",
            "Epoch 73/100\n",
            "235/235 [==============================] - 0s 1ms/step - loss: 0.3282 - accuracy: 0.8636\n",
            "Epoch 74/100\n",
            "235/235 [==============================] - 0s 1ms/step - loss: 0.3284 - accuracy: 0.8629\n",
            "Epoch 75/100\n",
            "235/235 [==============================] - 0s 1ms/step - loss: 0.3282 - accuracy: 0.8637\n",
            "Epoch 76/100\n",
            "235/235 [==============================] - 0s 1ms/step - loss: 0.3281 - accuracy: 0.8647\n",
            "Epoch 77/100\n",
            "235/235 [==============================] - 0s 1ms/step - loss: 0.3280 - accuracy: 0.8659\n",
            "Epoch 78/100\n",
            "235/235 [==============================] - 0s 2ms/step - loss: 0.3266 - accuracy: 0.8645\n",
            "Epoch 79/100\n",
            "235/235 [==============================] - 0s 1ms/step - loss: 0.3279 - accuracy: 0.8640\n",
            "Epoch 80/100\n",
            "235/235 [==============================] - 0s 1ms/step - loss: 0.3282 - accuracy: 0.8661\n",
            "Epoch 81/100\n",
            "235/235 [==============================] - 0s 1ms/step - loss: 0.3270 - accuracy: 0.8633\n",
            "Epoch 82/100\n",
            "235/235 [==============================] - 0s 2ms/step - loss: 0.3280 - accuracy: 0.8653\n",
            "Epoch 83/100\n",
            "235/235 [==============================] - 0s 1ms/step - loss: 0.3266 - accuracy: 0.8643\n",
            "Epoch 84/100\n",
            "235/235 [==============================] - 0s 1ms/step - loss: 0.3280 - accuracy: 0.8647\n",
            "Epoch 85/100\n",
            "235/235 [==============================] - 0s 1ms/step - loss: 0.3263 - accuracy: 0.8636\n",
            "Epoch 86/100\n",
            "235/235 [==============================] - 0s 1ms/step - loss: 0.3265 - accuracy: 0.8624\n",
            "Epoch 87/100\n",
            "235/235 [==============================] - 0s 1ms/step - loss: 0.3264 - accuracy: 0.8641\n",
            "Epoch 88/100\n",
            "235/235 [==============================] - 0s 1ms/step - loss: 0.3265 - accuracy: 0.8639\n",
            "Epoch 89/100\n",
            "235/235 [==============================] - 0s 1ms/step - loss: 0.3260 - accuracy: 0.8632\n",
            "Epoch 90/100\n",
            "235/235 [==============================] - 0s 1ms/step - loss: 0.3264 - accuracy: 0.8651\n",
            "Epoch 91/100\n",
            "235/235 [==============================] - 0s 1ms/step - loss: 0.3258 - accuracy: 0.8623\n",
            "Epoch 92/100\n",
            "235/235 [==============================] - 0s 1ms/step - loss: 0.3262 - accuracy: 0.8657\n",
            "Epoch 93/100\n",
            "235/235 [==============================] - 0s 1ms/step - loss: 0.3271 - accuracy: 0.8631\n",
            "Epoch 94/100\n",
            "235/235 [==============================] - 0s 1ms/step - loss: 0.3261 - accuracy: 0.8651\n",
            "Epoch 95/100\n",
            "235/235 [==============================] - 0s 1ms/step - loss: 0.3259 - accuracy: 0.8649\n",
            "Epoch 96/100\n",
            "235/235 [==============================] - 0s 1ms/step - loss: 0.3257 - accuracy: 0.8653\n",
            "Epoch 97/100\n",
            "235/235 [==============================] - 0s 1ms/step - loss: 0.3257 - accuracy: 0.8639\n",
            "Epoch 98/100\n",
            "235/235 [==============================] - 0s 1ms/step - loss: 0.3257 - accuracy: 0.8645\n",
            "Epoch 99/100\n",
            "235/235 [==============================] - 0s 1ms/step - loss: 0.3257 - accuracy: 0.8668\n",
            "Epoch 100/100\n",
            "235/235 [==============================] - 0s 1ms/step - loss: 0.3254 - accuracy: 0.8636\n"
          ]
        },
        {
          "output_type": "execute_result",
          "data": {
            "text/plain": [
              "<keras.callbacks.History at 0x7f76d86a8d10>"
            ]
          },
          "metadata": {},
          "execution_count": 14
        }
      ]
    },
    {
      "cell_type": "code",
      "source": [
        "model.evaluate(x_test, y_test)"
      ],
      "metadata": {
        "colab": {
          "base_uri": "https://localhost:8080/"
        },
        "id": "Lo6H-9mf1c4f",
        "outputId": "5ecc833f-38ea-4a59-8c12-297fd5ed9398"
      },
      "execution_count": null,
      "outputs": [
        {
          "output_type": "stream",
          "name": "stdout",
          "text": [
            "79/79 [==============================] - 0s 3ms/step - loss: 0.3456 - accuracy: 0.8636\n"
          ]
        },
        {
          "output_type": "execute_result",
          "data": {
            "text/plain": [
              "[0.3455740213394165, 0.8636000156402588]"
            ]
          },
          "metadata": {},
          "execution_count": 15
        }
      ]
    },
    {
      "cell_type": "code",
      "source": [
        "yp = model.predict(x_test)\n",
        "yp[:5]"
      ],
      "metadata": {
        "colab": {
          "base_uri": "https://localhost:8080/"
        },
        "id": "466LMt8Y2dY-",
        "outputId": "d3c29032-9278-4bbd-d09c-6d4bf6f3001f"
      },
      "execution_count": null,
      "outputs": [
        {
          "output_type": "execute_result",
          "data": {
            "text/plain": [
              "array([[0.7704129 ],\n",
              "       [0.04792431],\n",
              "       [0.3660353 ],\n",
              "       [0.14970475],\n",
              "       [0.03918889]], dtype=float32)"
            ]
          },
          "metadata": {},
          "execution_count": 16
        }
      ]
    },
    {
      "cell_type": "code",
      "source": [
        "y_pred = []\n",
        "for element in yp:\n",
        "    if element > 0.5:\n",
        "        y_pred.append(1)\n",
        "    else:\n",
        "        y_pred.append(0)"
      ],
      "metadata": {
        "id": "VI1cr36c2fWc"
      },
      "execution_count": null,
      "outputs": []
    },
    {
      "cell_type": "code",
      "source": [
        "from sklearn.metrics import confusion_matrix , classification_report\n",
        "\n",
        "print(classification_report(y_test,y_pred))"
      ],
      "metadata": {
        "colab": {
          "base_uri": "https://localhost:8080/"
        },
        "id": "hqTOLwrt2jvu",
        "outputId": "8cf02f1a-b9d0-4277-a545-bcdb480da803"
      },
      "execution_count": null,
      "outputs": [
        {
          "output_type": "stream",
          "name": "stdout",
          "text": [
            "              precision    recall  f1-score   support\n",
            "\n",
            "           0       0.88      0.96      0.92      1966\n",
            "           1       0.77      0.51      0.62       534\n",
            "\n",
            "    accuracy                           0.86      2500\n",
            "   macro avg       0.83      0.74      0.77      2500\n",
            "weighted avg       0.86      0.86      0.85      2500\n",
            "\n"
          ]
        }
      ]
    },
    {
      "cell_type": "code",
      "source": [
        "import seaborn as sn\n",
        "from matplotlib  import pyplot as plt\n",
        "\n",
        "cm = tf.math.confusion_matrix(labels=y_test,predictions=y_pred)\n",
        "\n",
        "plt.figure(figsize = (10,7))\n",
        "sn.heatmap(cm, annot=True, fmt='d')\n",
        "plt.xlabel('Predicted')\n",
        "plt.ylabel('Truth')"
      ],
      "metadata": {
        "colab": {
          "base_uri": "https://localhost:8080/",
          "height": 459
        },
        "id": "QAUBUM2j2l7_",
        "outputId": "a72da191-19d8-4c73-e03a-47bf79871438"
      },
      "execution_count": null,
      "outputs": [
        {
          "output_type": "execute_result",
          "data": {
            "text/plain": [
              "Text(69.0, 0.5, 'Truth')"
            ]
          },
          "metadata": {},
          "execution_count": 19
        },
        {
          "output_type": "display_data",
          "data": {
            "text/plain": [
              "<Figure size 720x504 with 2 Axes>"
            ],
            "image/png": "[encoded data removed]"
          },
          "metadata": {
            "needs_background": "light"
          }
        }
      ]
    },
    {
      "cell_type": "markdown",
      "source": [
        "**Accuracy**"
      ],
      "metadata": {
        "id": "8XA-bJGM2ulr"
      }
    },
    {
      "cell_type": "code",
      "source": [
        "round((1922+229)/(1922+229+275+74),2)"
      ],
      "metadata": {
        "colab": {
          "base_uri": "https://localhost:8080/"
        },
        "id": "doPpAp7X2qGl",
        "outputId": "378f9718-a76d-47c5-ee66-b981da8720fe"
      },
      "execution_count": null,
      "outputs": [
        {
          "output_type": "execute_result",
          "data": {
            "text/plain": [
              "0.86"
            ]
          },
          "metadata": {},
          "execution_count": 20
        }
      ]
    },
    {
      "cell_type": "markdown",
      "source": [
        "**Precision for 0 class**"
      ],
      "metadata": {
        "id": "jorVMs9Z20S9"
      }
    },
    {
      "cell_type": "code",
      "source": [
        "round(1922/(1922+275),2)"
      ],
      "metadata": {
        "colab": {
          "base_uri": "https://localhost:8080/"
        },
        "id": "IwDtwZID2zJE",
        "outputId": "fe88a6c4-2945-4ef1-8bfb-4ab7b1c09a2b"
      },
      "execution_count": null,
      "outputs": [
        {
          "output_type": "execute_result",
          "data": {
            "text/plain": [
              "0.87"
            ]
          },
          "metadata": {},
          "execution_count": 21
        }
      ]
    },
    {
      "cell_type": "markdown",
      "source": [
        "**Precision for 1 class**"
      ],
      "metadata": {
        "id": "HkktzSMx2871"
      }
    },
    {
      "cell_type": "code",
      "source": [
        "round(229/(229+74),2)"
      ],
      "metadata": {
        "colab": {
          "base_uri": "https://localhost:8080/"
        },
        "id": "VyEmBnSI26XH",
        "outputId": "6a2ef122-42c2-4670-a017-9290b845050e"
      },
      "execution_count": null,
      "outputs": [
        {
          "output_type": "execute_result",
          "data": {
            "text/plain": [
              "0.76"
            ]
          },
          "metadata": {},
          "execution_count": 22
        }
      ]
    },
    {
      "cell_type": "markdown",
      "source": [
        "**Recall for 0 class**"
      ],
      "metadata": {
        "id": "aKXoDXFK3EoJ"
      }
    },
    {
      "cell_type": "code",
      "source": [
        "round(1922/(1922+74),2)"
      ],
      "metadata": {
        "colab": {
          "base_uri": "https://localhost:8080/"
        },
        "id": "idXYXkX73Amy",
        "outputId": "06f74cca-048e-4a57-e825-0c435234c320"
      },
      "execution_count": null,
      "outputs": [
        {
          "output_type": "execute_result",
          "data": {
            "text/plain": [
              "0.96"
            ]
          },
          "metadata": {},
          "execution_count": 23
        }
      ]
    },
    {
      "cell_type": "code",
      "source": [
        "round(229/(229+275),2)"
      ],
      "metadata": {
        "colab": {
          "base_uri": "https://localhost:8080/"
        },
        "id": "MN5AWYEm3IV1",
        "outputId": "9330c73c-6bee-4fc3-d53a-f2a9e84b8745"
      },
      "execution_count": null,
      "outputs": [
        {
          "output_type": "execute_result",
          "data": {
            "text/plain": [
              "0.45"
            ]
          },
          "metadata": {},
          "execution_count": 24
        }
      ]
    }
  ]
}